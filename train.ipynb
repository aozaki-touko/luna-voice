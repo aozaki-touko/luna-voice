{
 "cells": [
  {
   "cell_type": "markdown",
   "id": "28d9a0e5",
   "metadata": {},
   "source": [
    "#### Install requirements"
   ]
  },
  {
   "cell_type": "code",
   "execution_count": 1,
   "id": "f5ba8906-5257-4293-960c-853b8b3c6dff",
   "metadata": {},
   "outputs": [
    {
     "name": "stdout",
     "output_type": "stream",
     "text": [
      "Requirement already satisfied: librosa==0.8.0 in c:\\users\\77089\\appdata\\local\\programs\\python\\python39\\lib\\site-packages (0.8.0)\n",
      "Requirement already satisfied: numpy>=1.15.0 in c:\\users\\77089\\appdata\\local\\programs\\python\\python39\\lib\\site-packages (from librosa==0.8.0) (1.22.2)\n",
      "Requirement already satisfied: numba>=0.43.0 in c:\\users\\77089\\appdata\\local\\programs\\python\\python39\\lib\\site-packages (from librosa==0.8.0) (0.56.0)\n",
      "Requirement already satisfied: decorator>=3.0.0 in c:\\users\\77089\\appdata\\local\\programs\\python\\python39\\lib\\site-packages (from librosa==0.8.0) (5.1.1)\n",
      "Requirement already satisfied: joblib>=0.14 in c:\\users\\77089\\appdata\\local\\programs\\python\\python39\\lib\\site-packages (from librosa==0.8.0) (1.1.0)\n",
      "Requirement already satisfied: resampy>=0.2.2 in c:\\users\\77089\\appdata\\local\\programs\\python\\python39\\lib\\site-packages (from librosa==0.8.0) (0.4.0)\n",
      "Requirement already satisfied: audioread>=2.0.0 in c:\\users\\77089\\appdata\\local\\programs\\python\\python39\\lib\\site-packages (from librosa==0.8.0) (2.1.9)\n",
      "Requirement already satisfied: soundfile>=0.9.0 in c:\\users\\77089\\appdata\\local\\programs\\python\\python39\\lib\\site-packages (from librosa==0.8.0) (0.10.3.post1)\n",
      "Requirement already satisfied: scikit-learn!=0.19.0,>=0.14.0 in c:\\users\\77089\\appdata\\local\\programs\\python\\python39\\lib\\site-packages (from librosa==0.8.0) (1.1.2)\n",
      "Requirement already satisfied: scipy>=1.0.0 in c:\\users\\77089\\appdata\\local\\programs\\python\\python39\\lib\\site-packages (from librosa==0.8.0) (1.9.0)\n",
      "Requirement already satisfied: pooch>=1.0 in c:\\users\\77089\\appdata\\local\\programs\\python\\python39\\lib\\site-packages (from librosa==0.8.0) (1.6.0)\n",
      "Requirement already satisfied: llvmlite<0.40,>=0.39.0dev0 in c:\\users\\77089\\appdata\\local\\programs\\python\\python39\\lib\\site-packages (from numba>=0.43.0->librosa==0.8.0) (0.39.0)\n",
      "Requirement already satisfied: setuptools in c:\\users\\77089\\appdata\\local\\programs\\python\\python39\\lib\\site-packages (from numba>=0.43.0->librosa==0.8.0) (56.0.0)\n",
      "Requirement already satisfied: packaging>=20.0 in c:\\users\\77089\\appdata\\local\\programs\\python\\python39\\lib\\site-packages (from pooch>=1.0->librosa==0.8.0) (21.3)\n",
      "Requirement already satisfied: requests>=2.19.0 in c:\\users\\77089\\appdata\\local\\programs\\python\\python39\\lib\\site-packages (from pooch>=1.0->librosa==0.8.0) (2.27.1)\n",
      "Requirement already satisfied: appdirs>=1.3.0 in c:\\users\\77089\\appdata\\local\\programs\\python\\python39\\lib\\site-packages (from pooch>=1.0->librosa==0.8.0) (1.4.4)\n",
      "Requirement already satisfied: threadpoolctl>=2.0.0 in c:\\users\\77089\\appdata\\local\\programs\\python\\python39\\lib\\site-packages (from scikit-learn!=0.19.0,>=0.14.0->librosa==0.8.0) (3.1.0)\n",
      "Requirement already satisfied: cffi>=1.0 in c:\\users\\77089\\appdata\\local\\programs\\python\\python39\\lib\\site-packages (from soundfile>=0.9.0->librosa==0.8.0) (1.15.1)\n",
      "Requirement already satisfied: pycparser in c:\\users\\77089\\appdata\\local\\programs\\python\\python39\\lib\\site-packages (from cffi>=1.0->soundfile>=0.9.0->librosa==0.8.0) (2.21)\n",
      "Requirement already satisfied: pyparsing!=3.0.5,>=2.0.2 in c:\\users\\77089\\appdata\\local\\programs\\python\\python39\\lib\\site-packages (from packaging>=20.0->pooch>=1.0->librosa==0.8.0) (3.0.9)\n",
      "Requirement already satisfied: idna<4,>=2.5 in c:\\users\\77089\\appdata\\local\\programs\\python\\python39\\lib\\site-packages (from requests>=2.19.0->pooch>=1.0->librosa==0.8.0) (3.3)\n",
      "Requirement already satisfied: certifi>=2017.4.17 in c:\\users\\77089\\appdata\\local\\programs\\python\\python39\\lib\\site-packages (from requests>=2.19.0->pooch>=1.0->librosa==0.8.0) (2021.10.8)\n",
      "Requirement already satisfied: urllib3<1.27,>=1.21.1 in c:\\users\\77089\\appdata\\local\\programs\\python\\python39\\lib\\site-packages (from requests>=2.19.0->pooch>=1.0->librosa==0.8.0) (1.26.9)\n",
      "Requirement already satisfied: charset-normalizer~=2.0.0 in c:\\users\\77089\\appdata\\local\\programs\\python\\python39\\lib\\site-packages (from requests>=2.19.0->pooch>=1.0->librosa==0.8.0) (2.0.12)\n",
      "Requirement already satisfied: pysoundfile==0.9.0.post1 in c:\\users\\77089\\appdata\\local\\programs\\python\\python39\\lib\\site-packages (0.9.0.post1)\n",
      "Requirement already satisfied: cffi>=0.6 in c:\\users\\77089\\appdata\\local\\programs\\python\\python39\\lib\\site-packages (from pysoundfile==0.9.0.post1) (1.15.1)\n",
      "Requirement already satisfied: pycparser in c:\\users\\77089\\appdata\\local\\programs\\python\\python39\\lib\\site-packages (from cffi>=0.6->pysoundfile==0.9.0.post1) (2.21)\n",
      "Requirement already satisfied: unidecode==1.3.4 in c:\\users\\77089\\appdata\\local\\programs\\python\\python39\\lib\\site-packages (1.3.4)\n",
      "Requirement already satisfied: pyopenjtalk==0.2.0 in c:\\users\\77089\\appdata\\local\\programs\\python\\python39\\lib\\site-packages (0.2.0)\n",
      "Requirement already satisfied: cython>=0.21.0 in c:\\users\\77089\\appdata\\local\\programs\\python\\python39\\lib\\site-packages (from pyopenjtalk==0.2.0) (0.29.32)\n",
      "Requirement already satisfied: six in c:\\users\\77089\\appdata\\local\\programs\\python\\python39\\lib\\site-packages (from pyopenjtalk==0.2.0) (1.16.0)\n",
      "Requirement already satisfied: numpy>=1.8.0 in c:\\users\\77089\\appdata\\local\\programs\\python\\python39\\lib\\site-packages (from pyopenjtalk==0.2.0) (1.22.2)\n",
      "Requirement already satisfied: tqdm in c:\\users\\77089\\appdata\\local\\programs\\python\\python39\\lib\\site-packages (from pyopenjtalk==0.2.0) (4.64.0)\n",
      "Requirement already satisfied: colorama in c:\\users\\77089\\appdata\\local\\programs\\python\\python39\\lib\\site-packages (from tqdm->pyopenjtalk==0.2.0) (0.4.4)\n",
      "Requirement already satisfied: inflect==5.6.2 in c:\\users\\77089\\appdata\\local\\programs\\python\\python39\\lib\\site-packages (5.6.2)\n",
      "Requirement already satisfied: janome==0.4.2 in c:\\users\\77089\\appdata\\local\\programs\\python\\python39\\lib\\site-packages (0.4.2)\n"
     ]
    }
   ],
   "source": [
    "!pip install librosa==0.8.0\n",
    "!pip install pysoundfile==0.9.0.post1\n",
    "!pip install unidecode==1.3.4\n",
    "!pip install pyopenjtalk==0.2.0\n",
    "!pip install inflect==5.6.2\n",
    "!pip install janome==0.4.2"
   ]
  },
  {
   "cell_type": "markdown",
   "id": "75498eeb",
   "metadata": {},
   "source": [
    "#### Train without pretrained model"
   ]
  },
  {
   "cell_type": "code",
   "execution_count": null,
   "id": "d5f5590e-1817-4665-9bdf-1ff06c0f7f96",
   "metadata": {},
   "outputs": [],
   "source": [
    "!python train.py --output_directory=outdir --log_directory=logdir"
   ]
  },
  {
   "cell_type": "markdown",
   "id": "e673209c",
   "metadata": {},
   "source": [
    "#### Train with a pretrained model"
   ]
  },
  {
   "cell_type": "code",
   "execution_count": 2,
   "id": "d5f5590e-1817-4665-9bdf-1ff06c0f7f96",
   "metadata": {},
   "outputs": [
    {
     "name": "stderr",
     "output_type": "stream",
     "text": [
      "d:\\su\\tacotron2-japanese\\text\\__init__.py:74: SyntaxWarning: \"is not\" with a literal. Did you mean \"!=\"?\n",
      "  return s in _symbol_to_id and s is not '_' and s is not '~'\n",
      "d:\\su\\tacotron2-japanese\\text\\__init__.py:74: SyntaxWarning: \"is not\" with a literal. Did you mean \"!=\"?\n",
      "  return s in _symbol_to_id and s is not '_' and s is not '~'\n",
      "Traceback (most recent call last):\n",
      "  File \"d:\\su\\tacotron2-japanese\\train.py\", line 278, in <module>\n",
      "    hparams = create_hparams(args.hparams)\n",
      "  File \"d:\\su\\tacotron2-japanese\\hparams.py\", line 8, in create_hparams\n",
      "    hparams = tf.contrib.training.HParams(\n",
      "AttributeError: module 'tensorflow' has no attribute 'contrib'\n"
     ]
    }
   ],
   "source": [
    "!python train.py --output_directory=outdir --log_directory=logdir -c tacotron2_statedict.pt --warm_start"
   ]
  }
 ],
 "metadata": {
  "kernelspec": {
   "display_name": "Python 3.9.6 64-bit",
   "language": "python",
   "name": "python3"
  },
  "language_info": {
   "codemirror_mode": {
    "name": "ipython",
    "version": 3
   },
   "file_extension": ".py",
   "mimetype": "text/x-python",
   "name": "python",
   "nbconvert_exporter": "python",
   "pygments_lexer": "ipython3",
   "version": "3.9.6"
  },
  "vscode": {
   "interpreter": {
    "hash": "ff16a49f7d2da522964d9ff861e3ce8a2dadcb9a4c012f5fea3460279eb90ef1"
   }
  }
 },
 "nbformat": 4,
 "nbformat_minor": 5
}
